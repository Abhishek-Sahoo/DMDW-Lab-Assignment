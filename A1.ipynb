{
  "nbformat": 4,
  "nbformat_minor": 0,
  "metadata": {
    "colab": {
      "name": "A1.ipynb",
      "provenance": [],
      "collapsed_sections": [],
      "include_colab_link": true
    },
    "kernelspec": {
      "name": "python3",
      "display_name": "Python 3"
    },
    "language_info": {
      "name": "python"
    }
  },
  "cells": [
    {
      "cell_type": "markdown",
      "metadata": {
        "id": "view-in-github",
        "colab_type": "text"
      },
      "source": [
        "<a href=\"https://colab.research.google.com/github/Abhishek-Sahoo/DMDW-Lab-Assignment/blob/main/A1.ipynb\" target=\"_parent\"><img src=\"https://colab.research.google.com/assets/colab-badge.svg\" alt=\"Open In Colab\"/></a>"
      ]
    },
    {
      "cell_type": "markdown",
      "metadata": {
        "id": "8wZGYlcB_q5W"
      },
      "source": [
        "Q1) Create a list in python . Next find mean and median of the list without using any builtin library functions"
      ]
    },
    {
      "cell_type": "code",
      "metadata": {
        "colab": {
          "base_uri": "https://localhost:8080/"
        },
        "id": "ZWLnKgo0_7Op",
        "outputId": "d01a861c-0c91-48cc-babf-0f27e52818fc"
      },
      "source": [
        "l=[12,35,18,9,56,24]\n",
        "mean=sum(l)/len(l)\n",
        "print(\"The mean of list l is \",mean)"
      ],
      "execution_count": null,
      "outputs": [
        {
          "output_type": "stream",
          "name": "stdout",
          "text": [
            "The mean of list l is  25.666666666666668\n"
          ]
        }
      ]
    },
    {
      "cell_type": "code",
      "metadata": {
        "colab": {
          "base_uri": "https://localhost:8080/"
        },
        "id": "JMaa9LBSAC_7",
        "outputId": "d09ebc64-ae5e-4590-e901-591d382d1848"
      },
      "source": [
        "n=len(l)\n",
        "l.sort()\n",
        "if(n%2==0):\n",
        "    median=(l[n//2]+l[n//2-1])/2\n",
        "    print(\"The median is \",median)\n",
        "else:\n",
        "    median=l[n//2]\n",
        "    print(\"The median is \",median)"
      ],
      "execution_count": null,
      "outputs": [
        {
          "output_type": "stream",
          "name": "stdout",
          "text": [
            "The median is  21.0\n"
          ]
        }
      ]
    },
    {
      "cell_type": "markdown",
      "metadata": {
        "id": "0Dnmhy8TAJe_"
      },
      "source": [
        "2. Create list inj python. Next find the mode of the list without using any builtin library function"
      ]
    },
    {
      "cell_type": "code",
      "metadata": {
        "colab": {
          "base_uri": "https://localhost:8080/"
        },
        "id": "3DYyB_YKALPe",
        "outputId": "ad2b7acb-d863-46bc-b51a-cd0e7993df4f"
      },
      "source": [
        "list1.sort()\n",
        "listilst1=[2,3,1,1,6,2,1,5]\n",
        "2 = []\n",
        "res = []\n",
        "for i in list1:\n",
        "    list2.append(list1.count(i))\n",
        "dic = dict(zip(list1,list2))\n",
        "for k,v in dic.items():\n",
        "    if v == max(list2):\n",
        "        res.append(k)\n",
        "print(\"Mode is: \",res)"
      ],
      "execution_count": null,
      "outputs": [
        {
          "output_type": "stream",
          "name": "stdout",
          "text": [
            "Mode is:  [1]\n"
          ]
        }
      ]
    },
    {
      "cell_type": "markdown",
      "metadata": {
        "id": "qxolpBTMAOYP"
      },
      "source": [
        "3. Create a list in python. Next find the second smallest number and second highest number in the list."
      ]
    },
    {
      "cell_type": "code",
      "metadata": {
        "colab": {
          "base_uri": "https://localhost:8080/"
        },
        "id": "9dDZ8FNJARC1",
        "outputId": "432e85db-0049-4a01-de0c-022a5fde8547"
      },
      "source": [
        "l=[12,35,18,9,56,24]\n",
        "l.sort()\n",
        "print(\"The second largest number is : \",l[len(l)-2])\n",
        "print(\"The second smallest number is : \",l[1])"
      ],
      "execution_count": null,
      "outputs": [
        {
          "output_type": "stream",
          "name": "stdout",
          "text": [
            "The second largest number is :  35\n",
            "The second smallest number is :  12\n"
          ]
        }
      ]
    }
  ]
}